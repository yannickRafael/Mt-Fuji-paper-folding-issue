{
 "cells": [
  {
   "cell_type": "code",
   "execution_count": 19,
   "metadata": {},
   "outputs": [],
   "source": [
    "def times_needed(thickness, height):\n",
    "    times = 0\n",
    "    while thickness <= height:\n",
    "        times = times + 1\n",
    "        thickness = 2 * thickness\n",
    "    \n",
    "    return times"
   ]
  },
  {
   "cell_type": "code",
   "execution_count": 20,
   "metadata": {},
   "outputs": [],
   "source": [
    "thickness = float(input('Insert the thickness'))\n",
    "height = float(input('Insert the height'))\n",
    "\n",
    "\n",
    "times = times_needed(thickness, height)"
   ]
  },
  {
   "cell_type": "code",
   "execution_count": 21,
   "metadata": {},
   "outputs": [
    {
     "name": "stdout",
     "output_type": "stream",
     "text": [
      "It's needed the paper to be folded 12 to exceed the height of Mt.Fuji\n"
     ]
    }
   ],
   "source": [
    "print(f\"It's needed the paper of {thickness} meters of thickness to be folded {times} to exceed the height of Mt.Fuji\")"
   ]
  }
 ],
 "metadata": {
  "kernelspec": {
   "display_name": "Python 3",
   "language": "python",
   "name": "python3"
  },
  "language_info": {
   "codemirror_mode": {
    "name": "ipython",
    "version": 3
   },
   "file_extension": ".py",
   "mimetype": "text/x-python",
   "name": "python",
   "nbconvert_exporter": "python",
   "pygments_lexer": "ipython3",
   "version": "3.10.12"
  }
 },
 "nbformat": 4,
 "nbformat_minor": 2
}
